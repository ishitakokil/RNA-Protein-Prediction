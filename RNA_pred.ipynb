{
 "cells": [
  {
   "cell_type": "code",
   "execution_count": 1,
   "metadata": {},
   "outputs": [
    {
     "name": "stderr",
     "output_type": "stream",
     "text": [
      "/Users/ishitakokil/opt/anaconda3/lib/python3.9/site-packages/scipy/__init__.py:146: UserWarning: A NumPy version >=1.16.5 and <1.23.0 is required for this version of SciPy (detected version 1.23.5\n",
      "  warnings.warn(f\"A NumPy version >={np_minversion} and <{np_maxversion}\"\n"
     ]
    }
   ],
   "source": [
    "import logging\n",
    "import numpy as np\n",
    "import pandas as pd\n",
    "import anndata as ad\n",
    "from sklearn.impute import KNNImputer\n",
    "import pickle\n",
    "\n",
    "from sklearn.decomposition import TruncatedSVD\n",
    "from sklearn.linear_model import LinearRegression\n",
    "from sklearn.metrics import mean_squared_error\n",
    "\n",
    "from sklearn.neural_network import MLPRegressor\n",
    "from sklearn.pipeline import Pipeline\n",
    "from sklearn.compose import TransformedTargetRegressor\n",
    "from sklearn.decomposition import TruncatedSVD"
   ]
  },
  {
   "cell_type": "code",
   "execution_count": 2,
   "metadata": {},
   "outputs": [],
   "source": [
    "# Load AnnData objects\n",
    "train_adt = ad.read_h5ad(\"Adt_processed_training.h5ad\")\n",
    "test_adt =  ad.read_h5ad(\"Adt_processed_testing.h5ad\")\n",
    "test_gex = ad.read_h5ad(\"Gex_processed_testing.h5ad\")\n",
    "train_gex = ad.read_h5ad(\"Gex_processed_training.h5ad\")\n",
    "\n",
    "# Impute missing values using KNN imputation\n",
    "imputer = KNNImputer(n_neighbors=5)\n",
    "train_gex.X = imputer.fit_transform(train_gex.X.toarray())\n",
    "test_gex.X = imputer.transform(test_gex.X.toarray())\n",
    "\n",
    "with open(\"train_gex_imputed.pkl\", \"wb\") as f:\n",
    "    pickle.dump(train_gex, f)\n",
    "with open(\"test_gex_imputed.pkl\", \"wb\") as f:\n",
    "    pickle.dump(test_gex, f)"
   ]
  },
  {
   "cell_type": "code",
   "execution_count": 3,
   "metadata": {},
   "outputs": [],
   "source": [
    "# Load the pickled file   \n",
    "with open(\"train_gex_imputed.pkl\", \"rb\") as f:\n",
    "    train_gex = pickle.load(f)\n",
    "    \n",
    "with open(\"test_gex_imputed.pkl\", \"rb\") as f:\n",
    "    test_gex= pickle.load(f)"
   ]
  },
  {
   "cell_type": "code",
   "execution_count": 4,
   "metadata": {},
   "outputs": [],
   "source": [
    "# This will get passed to the method\n",
    "input_train_gex = train_gex\n",
    "input_train_adt = train_adt\n",
    "input_test_gex =  test_gex\n",
    "\n",
    "true_test_adt =  test_adt"
   ]
  },
  {
   "cell_type": "code",
   "execution_count": 7,
   "metadata": {},
   "outputs": [],
   "source": [
    "import numpy as np\n",
    "import logging\n",
    "import anndata as ad\n",
    "from sklearn.decomposition import TruncatedSVD\n",
    "from sklearn.neural_network import MLPRegressor\n",
    "import pickle\n",
    "from sklearn.metrics import mean_squared_error\n",
    "\n",
    "def train_and_save_model(input_train_gex, input_train_adt):\n",
    "    input_gex = input_train_gex\n",
    "\n",
    "    # Perform dimensionality reduction on GEX values\n",
    "    logging.info(\"Performing dimensionality reduction on GEX values...\")\n",
    "    embedder_gex = TruncatedSVD(n_components=50)\n",
    "    gex_pca = embedder_gex.fit_transform(input_gex.X)\n",
    "\n",
    "    # Prepare training data\n",
    "    X_train = gex_pca\n",
    "    y_train = input_train_adt.X.toarray()\n",
    "\n",
    "    # Build and train a MLP regressor model\n",
    "    reg = MLPRegressor(\n",
    "        hidden_layer_sizes=(50, 50),\n",
    "        max_iter=1000,\n",
    "        random_state=0,\n",
    "    )\n",
    "    reg.fit(X_train, y_train)\n",
    "\n",
    "    # Save the trained model and the PCA embedding as pickle files\n",
    "    with open(\"mlp_model_ishita.pkl\", \"wb\") as f:\n",
    "        pickle.dump(reg, f)\n",
    "    with open(\"pca_embedding_ishita.pkl\", \"wb\") as f:\n",
    "        pickle.dump(embedder_gex, f)\n"
   ]
  },
  {
   "cell_type": "code",
   "execution_count": null,
   "metadata": {},
   "outputs": [],
   "source": [
    "train_and_save_model(input_train_gex,input_train_adt)"
   ]
  },
  {
   "cell_type": "code",
   "execution_count": null,
   "metadata": {},
   "outputs": [],
   "source": [
    "def ishita_model(test_gex):\n",
    "    # Load the trained model and PCA embedding from the pickle files\n",
    "    with open(\"mlp_model_ishita.pkl\", \"rb\") as f:\n",
    "        trained_model = pickle.load(f)\n",
    "        \n",
    "    with open(\"pca_embedding_ishita.pkl\", \"rb\") as f:\n",
    "        pca_embedding = pickle.load(f)\n",
    "        \n",
    "    imputer = KNNImputer(n_neighbors=5)\n",
    "    test_gex.X = imputer.fit_transform(test_gex.X)\n",
    "        \n",
    "    # Perform dimensionality reduction on the input_test_gex\n",
    "    X_test = pca_embedding.transform(test_gex.X)\n",
    "\n",
    "    y_pred = trained_model.predict(X_test)\n",
    "    \n",
    "    # Project the predictions back to the adt feature space\n",
    "    pred_test_adt = ad.AnnData(\n",
    "        X = np.array(y_pred),\n",
    "        obs = input_test_gex.obs,\n",
    "        var = input_train_adt.var,\n",
    "    )\n",
    "    return pred_test_adt\n",
    "    "
   ]
  },
  {
   "cell_type": "code",
   "execution_count": null,
   "metadata": {},
   "outputs": [],
   "source": [
    "pred_test_adt = ishita_model(input_test_gex)"
   ]
  },
  {
   "cell_type": "code",
   "execution_count": null,
   "metadata": {},
   "outputs": [],
   "source": [
    "mlp_rmse=mean_squared_error(true_test_adt.X.toarray(), pred_test_adt.X, squared=False)"
   ]
  },
  {
   "cell_type": "code",
   "execution_count": null,
   "metadata": {},
   "outputs": [],
   "source": [
    "print(mlp_rmse)"
   ]
  },
  {
   "cell_type": "code",
   "execution_count": null,
   "metadata": {},
   "outputs": [],
   "source": []
  },
  {
   "cell_type": "code",
   "execution_count": null,
   "metadata": {},
   "outputs": [],
   "source": []
  }
 ],
 "metadata": {
  "kernelspec": {
   "display_name": "base",
   "language": "python",
   "name": "python3"
  },
  "language_info": {
   "codemirror_mode": {
    "name": "ipython",
    "version": 3
   },
   "file_extension": ".py",
   "mimetype": "text/x-python",
   "name": "python",
   "nbconvert_exporter": "python",
   "pygments_lexer": "ipython3",
   "version": "3.9.7"
  }
 },
 "nbformat": 4,
 "nbformat_minor": 2
}
